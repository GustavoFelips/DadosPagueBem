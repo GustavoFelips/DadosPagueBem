{
  "nbformat": 4,
  "nbformat_minor": 0,
  "metadata": {
    "colab": {
      "provenance": [],
      "toc_visible": true,
      "include_colab_link": true
    },
    "kernelspec": {
      "name": "python3",
      "display_name": "Python 3"
    },
    "language_info": {
      "name": "python"
    }
  },
  "cells": [
    {
      "cell_type": "markdown",
      "metadata": {
        "id": "view-in-github",
        "colab_type": "text"
      },
      "source": [
        "<a href=\"https://colab.research.google.com/github/GustavoFelips/DadosPagueBem/blob/main/Indices_PagueBem.ipynb\" target=\"_parent\"><img src=\"https://colab.research.google.com/assets/colab-badge.svg\" alt=\"Open In Colab\"/></a>"
      ]
    },
    {
      "cell_type": "markdown",
      "source": [
        "# Índice De Pagamento"
      ],
      "metadata": {
        "id": "IicWOHcumytT"
      }
    },
    {
      "cell_type": "markdown",
      "source": [
        "##Base"
      ],
      "metadata": {
        "id": "KmXSMEzqw_dJ"
      }
    },
    {
      "cell_type": "code",
      "execution_count": 62,
      "metadata": {
        "id": "3pdbSpN3mxj2",
        "colab": {
          "base_uri": "https://localhost:8080/",
          "height": 143
        },
        "outputId": "d65a258f-b456-4cf5-db32-c85e7c3ac91c"
      },
      "outputs": [
        {
          "output_type": "execute_result",
          "data": {
            "text/plain": [
              "   codigo  identificador  nº parcela nº documento  vencimento   pagamento  \\\n",
              "0       1          34680           9         4728  2021-09-10  2021-09-11   \n",
              "1       1          34680           4         4728  2021-04-10  2021-04-13   \n",
              "2       1          34680           3         4728  2021-03-10  2021-03-11   \n",
              "\n",
              "   tempo para pagar  valor conta  valor pago  diferença  lead  \n",
              "0                -1        599.0       530.0      -69.0     3  \n",
              "1                -3        599.0       530.0      -69.0     3  \n",
              "2                -1        599.0       530.0      -69.0     3  "
            ],
            "text/html": [
              "\n",
              "  <div id=\"df-cfe6a174-d3c5-4197-b09c-c475b1f3bd66\" class=\"colab-df-container\">\n",
              "    <div>\n",
              "<style scoped>\n",
              "    .dataframe tbody tr th:only-of-type {\n",
              "        vertical-align: middle;\n",
              "    }\n",
              "\n",
              "    .dataframe tbody tr th {\n",
              "        vertical-align: top;\n",
              "    }\n",
              "\n",
              "    .dataframe thead th {\n",
              "        text-align: right;\n",
              "    }\n",
              "</style>\n",
              "<table border=\"1\" class=\"dataframe\">\n",
              "  <thead>\n",
              "    <tr style=\"text-align: right;\">\n",
              "      <th></th>\n",
              "      <th>codigo</th>\n",
              "      <th>identificador</th>\n",
              "      <th>nº parcela</th>\n",
              "      <th>nº documento</th>\n",
              "      <th>vencimento</th>\n",
              "      <th>pagamento</th>\n",
              "      <th>tempo para pagar</th>\n",
              "      <th>valor conta</th>\n",
              "      <th>valor pago</th>\n",
              "      <th>diferença</th>\n",
              "      <th>lead</th>\n",
              "    </tr>\n",
              "  </thead>\n",
              "  <tbody>\n",
              "    <tr>\n",
              "      <th>0</th>\n",
              "      <td>1</td>\n",
              "      <td>34680</td>\n",
              "      <td>9</td>\n",
              "      <td>4728</td>\n",
              "      <td>2021-09-10</td>\n",
              "      <td>2021-09-11</td>\n",
              "      <td>-1</td>\n",
              "      <td>599.0</td>\n",
              "      <td>530.0</td>\n",
              "      <td>-69.0</td>\n",
              "      <td>3</td>\n",
              "    </tr>\n",
              "    <tr>\n",
              "      <th>1</th>\n",
              "      <td>1</td>\n",
              "      <td>34680</td>\n",
              "      <td>4</td>\n",
              "      <td>4728</td>\n",
              "      <td>2021-04-10</td>\n",
              "      <td>2021-04-13</td>\n",
              "      <td>-3</td>\n",
              "      <td>599.0</td>\n",
              "      <td>530.0</td>\n",
              "      <td>-69.0</td>\n",
              "      <td>3</td>\n",
              "    </tr>\n",
              "    <tr>\n",
              "      <th>2</th>\n",
              "      <td>1</td>\n",
              "      <td>34680</td>\n",
              "      <td>3</td>\n",
              "      <td>4728</td>\n",
              "      <td>2021-03-10</td>\n",
              "      <td>2021-03-11</td>\n",
              "      <td>-1</td>\n",
              "      <td>599.0</td>\n",
              "      <td>530.0</td>\n",
              "      <td>-69.0</td>\n",
              "      <td>3</td>\n",
              "    </tr>\n",
              "  </tbody>\n",
              "</table>\n",
              "</div>\n",
              "    <div class=\"colab-df-buttons\">\n",
              "\n",
              "  <div class=\"colab-df-container\">\n",
              "    <button class=\"colab-df-convert\" onclick=\"convertToInteractive('df-cfe6a174-d3c5-4197-b09c-c475b1f3bd66')\"\n",
              "            title=\"Convert this dataframe to an interactive table.\"\n",
              "            style=\"display:none;\">\n",
              "\n",
              "  <svg xmlns=\"http://www.w3.org/2000/svg\" height=\"24px\" viewBox=\"0 -960 960 960\">\n",
              "    <path d=\"M120-120v-720h720v720H120Zm60-500h600v-160H180v160Zm220 220h160v-160H400v160Zm0 220h160v-160H400v160ZM180-400h160v-160H180v160Zm440 0h160v-160H620v160ZM180-180h160v-160H180v160Zm440 0h160v-160H620v160Z\"/>\n",
              "  </svg>\n",
              "    </button>\n",
              "\n",
              "  <style>\n",
              "    .colab-df-container {\n",
              "      display:flex;\n",
              "      gap: 12px;\n",
              "    }\n",
              "\n",
              "    .colab-df-convert {\n",
              "      background-color: #E8F0FE;\n",
              "      border: none;\n",
              "      border-radius: 50%;\n",
              "      cursor: pointer;\n",
              "      display: none;\n",
              "      fill: #1967D2;\n",
              "      height: 32px;\n",
              "      padding: 0 0 0 0;\n",
              "      width: 32px;\n",
              "    }\n",
              "\n",
              "    .colab-df-convert:hover {\n",
              "      background-color: #E2EBFA;\n",
              "      box-shadow: 0px 1px 2px rgba(60, 64, 67, 0.3), 0px 1px 3px 1px rgba(60, 64, 67, 0.15);\n",
              "      fill: #174EA6;\n",
              "    }\n",
              "\n",
              "    .colab-df-buttons div {\n",
              "      margin-bottom: 4px;\n",
              "    }\n",
              "\n",
              "    [theme=dark] .colab-df-convert {\n",
              "      background-color: #3B4455;\n",
              "      fill: #D2E3FC;\n",
              "    }\n",
              "\n",
              "    [theme=dark] .colab-df-convert:hover {\n",
              "      background-color: #434B5C;\n",
              "      box-shadow: 0px 1px 3px 1px rgba(0, 0, 0, 0.15);\n",
              "      filter: drop-shadow(0px 1px 2px rgba(0, 0, 0, 0.3));\n",
              "      fill: #FFFFFF;\n",
              "    }\n",
              "  </style>\n",
              "\n",
              "    <script>\n",
              "      const buttonEl =\n",
              "        document.querySelector('#df-cfe6a174-d3c5-4197-b09c-c475b1f3bd66 button.colab-df-convert');\n",
              "      buttonEl.style.display =\n",
              "        google.colab.kernel.accessAllowed ? 'block' : 'none';\n",
              "\n",
              "      async function convertToInteractive(key) {\n",
              "        const element = document.querySelector('#df-cfe6a174-d3c5-4197-b09c-c475b1f3bd66');\n",
              "        const dataTable =\n",
              "          await google.colab.kernel.invokeFunction('convertToInteractive',\n",
              "                                                    [key], {});\n",
              "        if (!dataTable) return;\n",
              "\n",
              "        const docLinkHtml = 'Like what you see? Visit the ' +\n",
              "          '<a target=\"_blank\" href=https://colab.research.google.com/notebooks/data_table.ipynb>data table notebook</a>'\n",
              "          + ' to learn more about interactive tables.';\n",
              "        element.innerHTML = '';\n",
              "        dataTable['output_type'] = 'display_data';\n",
              "        await google.colab.output.renderOutput(dataTable, element);\n",
              "        const docLink = document.createElement('div');\n",
              "        docLink.innerHTML = docLinkHtml;\n",
              "        element.appendChild(docLink);\n",
              "      }\n",
              "    </script>\n",
              "  </div>\n",
              "\n",
              "\n",
              "<div id=\"df-b89952ae-6cc8-4d3c-a2b2-e78e832a7757\">\n",
              "  <button class=\"colab-df-quickchart\" onclick=\"quickchart('df-b89952ae-6cc8-4d3c-a2b2-e78e832a7757')\"\n",
              "            title=\"Suggest charts\"\n",
              "            style=\"display:none;\">\n",
              "\n",
              "<svg xmlns=\"http://www.w3.org/2000/svg\" height=\"24px\"viewBox=\"0 0 24 24\"\n",
              "     width=\"24px\">\n",
              "    <g>\n",
              "        <path d=\"M19 3H5c-1.1 0-2 .9-2 2v14c0 1.1.9 2 2 2h14c1.1 0 2-.9 2-2V5c0-1.1-.9-2-2-2zM9 17H7v-7h2v7zm4 0h-2V7h2v10zm4 0h-2v-4h2v4z\"/>\n",
              "    </g>\n",
              "</svg>\n",
              "  </button>\n",
              "\n",
              "<style>\n",
              "  .colab-df-quickchart {\n",
              "      --bg-color: #E8F0FE;\n",
              "      --fill-color: #1967D2;\n",
              "      --hover-bg-color: #E2EBFA;\n",
              "      --hover-fill-color: #174EA6;\n",
              "      --disabled-fill-color: #AAA;\n",
              "      --disabled-bg-color: #DDD;\n",
              "  }\n",
              "\n",
              "  [theme=dark] .colab-df-quickchart {\n",
              "      --bg-color: #3B4455;\n",
              "      --fill-color: #D2E3FC;\n",
              "      --hover-bg-color: #434B5C;\n",
              "      --hover-fill-color: #FFFFFF;\n",
              "      --disabled-bg-color: #3B4455;\n",
              "      --disabled-fill-color: #666;\n",
              "  }\n",
              "\n",
              "  .colab-df-quickchart {\n",
              "    background-color: var(--bg-color);\n",
              "    border: none;\n",
              "    border-radius: 50%;\n",
              "    cursor: pointer;\n",
              "    display: none;\n",
              "    fill: var(--fill-color);\n",
              "    height: 32px;\n",
              "    padding: 0;\n",
              "    width: 32px;\n",
              "  }\n",
              "\n",
              "  .colab-df-quickchart:hover {\n",
              "    background-color: var(--hover-bg-color);\n",
              "    box-shadow: 0 1px 2px rgba(60, 64, 67, 0.3), 0 1px 3px 1px rgba(60, 64, 67, 0.15);\n",
              "    fill: var(--button-hover-fill-color);\n",
              "  }\n",
              "\n",
              "  .colab-df-quickchart-complete:disabled,\n",
              "  .colab-df-quickchart-complete:disabled:hover {\n",
              "    background-color: var(--disabled-bg-color);\n",
              "    fill: var(--disabled-fill-color);\n",
              "    box-shadow: none;\n",
              "  }\n",
              "\n",
              "  .colab-df-spinner {\n",
              "    border: 2px solid var(--fill-color);\n",
              "    border-color: transparent;\n",
              "    border-bottom-color: var(--fill-color);\n",
              "    animation:\n",
              "      spin 1s steps(1) infinite;\n",
              "  }\n",
              "\n",
              "  @keyframes spin {\n",
              "    0% {\n",
              "      border-color: transparent;\n",
              "      border-bottom-color: var(--fill-color);\n",
              "      border-left-color: var(--fill-color);\n",
              "    }\n",
              "    20% {\n",
              "      border-color: transparent;\n",
              "      border-left-color: var(--fill-color);\n",
              "      border-top-color: var(--fill-color);\n",
              "    }\n",
              "    30% {\n",
              "      border-color: transparent;\n",
              "      border-left-color: var(--fill-color);\n",
              "      border-top-color: var(--fill-color);\n",
              "      border-right-color: var(--fill-color);\n",
              "    }\n",
              "    40% {\n",
              "      border-color: transparent;\n",
              "      border-right-color: var(--fill-color);\n",
              "      border-top-color: var(--fill-color);\n",
              "    }\n",
              "    60% {\n",
              "      border-color: transparent;\n",
              "      border-right-color: var(--fill-color);\n",
              "    }\n",
              "    80% {\n",
              "      border-color: transparent;\n",
              "      border-right-color: var(--fill-color);\n",
              "      border-bottom-color: var(--fill-color);\n",
              "    }\n",
              "    90% {\n",
              "      border-color: transparent;\n",
              "      border-bottom-color: var(--fill-color);\n",
              "    }\n",
              "  }\n",
              "</style>\n",
              "\n",
              "  <script>\n",
              "    async function quickchart(key) {\n",
              "      const quickchartButtonEl =\n",
              "        document.querySelector('#' + key + ' button');\n",
              "      quickchartButtonEl.disabled = true;  // To prevent multiple clicks.\n",
              "      quickchartButtonEl.classList.add('colab-df-spinner');\n",
              "      try {\n",
              "        const charts = await google.colab.kernel.invokeFunction(\n",
              "            'suggestCharts', [key], {});\n",
              "      } catch (error) {\n",
              "        console.error('Error during call to suggestCharts:', error);\n",
              "      }\n",
              "      quickchartButtonEl.classList.remove('colab-df-spinner');\n",
              "      quickchartButtonEl.classList.add('colab-df-quickchart-complete');\n",
              "    }\n",
              "    (() => {\n",
              "      let quickchartButtonEl =\n",
              "        document.querySelector('#df-b89952ae-6cc8-4d3c-a2b2-e78e832a7757 button');\n",
              "      quickchartButtonEl.style.display =\n",
              "        google.colab.kernel.accessAllowed ? 'block' : 'none';\n",
              "    })();\n",
              "  </script>\n",
              "</div>\n",
              "\n",
              "    </div>\n",
              "  </div>\n"
            ],
            "application/vnd.google.colaboratory.intrinsic+json": {
              "type": "dataframe",
              "variable_name": "df",
              "summary": "{\n  \"name\": \"df\",\n  \"rows\": 9963,\n  \"fields\": [\n    {\n      \"column\": \"codigo\",\n      \"properties\": {\n        \"dtype\": \"number\",\n        \"std\": 319,\n        \"min\": 1,\n        \"max\": 1107,\n        \"num_unique_values\": 1107,\n        \"samples\": [\n          615,\n          975,\n          57\n        ],\n        \"semantic_type\": \"\",\n        \"description\": \"\"\n      }\n    },\n    {\n      \"column\": \"identificador\",\n      \"properties\": {\n        \"dtype\": \"number\",\n        \"std\": 6626,\n        \"min\": 16075,\n        \"max\": 45738,\n        \"num_unique_values\": 1107,\n        \"samples\": [\n          16697,\n          27821,\n          35293\n        ],\n        \"semantic_type\": \"\",\n        \"description\": \"\"\n      }\n    },\n    {\n      \"column\": \"n\\u00ba parcela\",\n      \"properties\": {\n        \"dtype\": \"number\",\n        \"std\": 2,\n        \"min\": 2,\n        \"max\": 12,\n        \"num_unique_values\": 11,\n        \"samples\": [\n          10,\n          9,\n          12\n        ],\n        \"semantic_type\": \"\",\n        \"description\": \"\"\n      }\n    },\n    {\n      \"column\": \"n\\u00ba documento\",\n      \"properties\": {\n        \"dtype\": \"category\",\n        \"num_unique_values\": 1052,\n        \"samples\": [\n          \"4684\",\n          \"1877\",\n          \"4596\"\n        ],\n        \"semantic_type\": \"\",\n        \"description\": \"\"\n      }\n    },\n    {\n      \"column\": \"vencimento\",\n      \"properties\": {\n        \"dtype\": \"object\",\n        \"num_unique_values\": 183,\n        \"samples\": [\n          \"2021-08-17\",\n          \"2021-05-19\",\n          \"2021-04-28\"\n        ],\n        \"semantic_type\": \"\",\n        \"description\": \"\"\n      }\n    },\n    {\n      \"column\": \"pagamento\",\n      \"properties\": {\n        \"dtype\": \"object\",\n        \"num_unique_values\": 252,\n        \"samples\": [\n          \"2021-01-28\",\n          \"2021-08-11\",\n          \"2021-06-12\"\n        ],\n        \"semantic_type\": \"\",\n        \"description\": \"\"\n      }\n    },\n    {\n      \"column\": \"tempo para pagar\",\n      \"properties\": {\n        \"dtype\": \"number\",\n        \"std\": 50,\n        \"min\": -268,\n        \"max\": 354,\n        \"num_unique_values\": 357,\n        \"samples\": [\n          38,\n          -34,\n          -89\n        ],\n        \"semantic_type\": \"\",\n        \"description\": \"\"\n      }\n    },\n    {\n      \"column\": \"valor conta\",\n      \"properties\": {\n        \"dtype\": \"number\",\n        \"std\": 156.73796629475672,\n        \"min\": 250.0,\n        \"max\": 1096.53,\n        \"num_unique_values\": 222,\n        \"samples\": [\n          526.78,\n          819.95,\n          826.7\n        ],\n        \"semantic_type\": \"\",\n        \"description\": \"\"\n      }\n    },\n    {\n      \"column\": \"valor pago\",\n      \"properties\": {\n        \"dtype\": \"number\",\n        \"std\": 207.4365076307768,\n        \"min\": 0.0,\n        \"max\": 2040.44,\n        \"num_unique_values\": 1368,\n        \"samples\": [\n          526.78,\n          622.78,\n          711.2\n        ],\n        \"semantic_type\": \"\",\n        \"description\": \"\"\n      }\n    },\n    {\n      \"column\": \"diferen\\u00e7a\",\n      \"properties\": {\n        \"dtype\": \"number\",\n        \"std\": 195.2770294697348,\n        \"min\": -1036.25,\n        \"max\": 1199.88,\n        \"num_unique_values\": 1226,\n        \"samples\": [\n          30.83,\n          -85.08,\n          47.78\n        ],\n        \"semantic_type\": \"\",\n        \"description\": \"\"\n      }\n    },\n    {\n      \"column\": \"lead\",\n      \"properties\": {\n        \"dtype\": \"number\",\n        \"std\": 1,\n        \"min\": 0,\n        \"max\": 3,\n        \"num_unique_values\": 4,\n        \"samples\": [\n          0,\n          2,\n          3\n        ],\n        \"semantic_type\": \"\",\n        \"description\": \"\"\n      }\n    }\n  ]\n}"
            }
          },
          "metadata": {},
          "execution_count": 62
        }
      ],
      "source": [
        "import pandas as pd\n",
        "\n",
        "#Criando o DataFrame através do CSV\n",
        "df = pd.read_csv('data_pague_bem.csv')\n",
        "\n",
        "#Retirando a Coluna Index que veio no CSV\n",
        "df = df.drop(df.columns[0],axis=1)\n",
        "\n",
        "#Verificando o DataFrame\n",
        "df.head(3)"
      ]
    },
    {
      "cell_type": "markdown",
      "source": [
        "##Função Nota"
      ],
      "metadata": {
        "id": "mLnqWiFhzV-w"
      }
    },
    {
      "cell_type": "code",
      "source": [
        "#Função que calcula a nota a partir da média do tempo de pagamento\n",
        "def calcular_nota(media):\n",
        "  if media < -15:\n",
        "    return 0\n",
        "  elif -15 <= media < -10:\n",
        "    return 2.5\n",
        "  elif -10 <= media < -5:\n",
        "    return 5.0\n",
        "  elif -5 <= media < -2:\n",
        "    return 7.0\n",
        "  elif -2 <= media < 0:\n",
        "    return 8\n",
        "  elif media >= 0:\n",
        "    return 10"
      ],
      "metadata": {
        "id": "LTnNLlaozYhU"
      },
      "execution_count": null,
      "outputs": []
    },
    {
      "cell_type": "markdown",
      "source": [
        "##Índice de todos os clientes\n",
        "\n"
      ],
      "metadata": {
        "id": "z9QcHgW5m955"
      }
    },
    {
      "cell_type": "code",
      "source": [
        "\n",
        "#Tira as médias do tempo de pagamento por cliente e retorna suas devidas notas\n",
        "def indice_Pagamento(df):\n",
        "  if 'identificador' in df.columns and 'tempo para pagar' in df.columns:\n",
        "\n",
        "    #Calcula a média de tempo de pagamento por cliente\n",
        "    medias_por_cliente = df.groupby('identificador')['tempo para pagar'].mean().reset_index()\n",
        "\n",
        "    #Calcula para cada média uma nota\n",
        "    medias_por_cliente['i.pag'] = medias_por_cliente['tempo para pagar'].apply(calcular_nota)\n",
        "\n",
        "    #Modifica nome da coluna\n",
        "    medias_por_cliente.rename(columns={'tempo para pagar' : 'media_tempo_pagamento'},inplace=True)\n",
        "\n",
        "    print(medias_por_cliente)\n",
        "  else:\n",
        "    print(\"As colunas 'identificador' ou 'tempo para pagar' não foram encontradas no arquivo CSV.\")\n",
        "\n",
        "indice_Pagamento(df)\n",
        "\n"
      ],
      "metadata": {
        "id": "KSZ62NvcoEso",
        "colab": {
          "base_uri": "https://localhost:8080/"
        },
        "outputId": "b43d3543-c4a0-44f2-831e-e0fd46b6372a"
      },
      "execution_count": 63,
      "outputs": [
        {
          "output_type": "stream",
          "name": "stdout",
          "text": [
            "      identificador  media_tempo_pagamento  i.pag\n",
            "0             16075              -9.333333    5.0\n",
            "1             16077               6.666667   10.0\n",
            "2             16078               0.333333   10.0\n",
            "3             16080               2.222222   10.0\n",
            "4             16081            -117.888889    0.0\n",
            "...             ...                    ...    ...\n",
            "1102          40438               0.888889   10.0\n",
            "1103          42085               6.555556   10.0\n",
            "1104          42228              -7.777778    5.0\n",
            "1105          43881               4.000000   10.0\n",
            "1106          45738               1.555556   10.0\n",
            "\n",
            "[1107 rows x 3 columns]\n"
          ]
        }
      ]
    },
    {
      "cell_type": "code",
      "source": [],
      "metadata": {
        "id": "gUQV5z0YvZEi"
      },
      "execution_count": null,
      "outputs": []
    },
    {
      "cell_type": "markdown",
      "source": [
        "##Índice por Identificador\n",
        "\n"
      ],
      "metadata": {
        "id": "dglrp0Wpx5mp"
      }
    },
    {
      "cell_type": "code",
      "source": [
        "def indice_pagamento_por_cliente(cliente_id):\n",
        "    linhas_cliente = df[df['identificador']==cliente_id]\n",
        "    media_tempo_pagamento = linhas_cliente['tempo para pagar'].mean()\n",
        "    return calcular_nota(media_tempo_pagamento)\n",
        "\n",
        "#Exemplo\n",
        "indice_pagamento_por_cliente(16075)\n"
      ],
      "metadata": {
        "colab": {
          "base_uri": "https://localhost:8080/"
        },
        "id": "QOjn1kUPyXIz",
        "outputId": "34a0f4a6-9f33-4344-b8c6-19dc2b3dad43"
      },
      "execution_count": 65,
      "outputs": [
        {
          "output_type": "execute_result",
          "data": {
            "text/plain": [
              "5.0"
            ]
          },
          "metadata": {},
          "execution_count": 65
        }
      ]
    },
    {
      "cell_type": "markdown",
      "source": [
        "# índice de Regularidade"
      ],
      "metadata": {
        "id": "SeA_dOZom5Hf"
      }
    }
  ]
}